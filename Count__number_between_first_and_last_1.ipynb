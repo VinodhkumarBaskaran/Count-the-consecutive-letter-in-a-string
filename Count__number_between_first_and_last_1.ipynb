{
  "nbformat": 4,
  "nbformat_minor": 0,
  "metadata": {
    "colab": {
      "name": "Count _number_between_first_and_last_1.ipynb",
      "version": "0.3.2",
      "provenance": [],
      "include_colab_link": true
    },
    "kernelspec": {
      "name": "python3",
      "display_name": "Python 3"
    }
  },
  "cells": [
    {
      "cell_type": "markdown",
      "metadata": {
        "id": "view-in-github",
        "colab_type": "text"
      },
      "source": [
        "<a href=\"https://colab.research.google.com/github/VinodhkumarBaskaran/Count-the-consecutive-letter-in-a-string/blob/master/Count__number_between_first_and_last_1.ipynb\" target=\"_parent\"><img src=\"https://colab.research.google.com/assets/colab-badge.svg\" alt=\"Open In Colab\"/></a>"
      ]
    },
    {
      "metadata": {
        "id": "7tvnyXJ1G3Gp",
        "colab_type": "code",
        "colab": {
          "base_uri": "https://localhost:8080/",
          "height": 105
        },
        "outputId": "340a2ed0-ea5b-4c3c-9d9b-44a3a68077d0"
      },
      "cell_type": "code",
      "source": [
        "iput='0000010010000000001000000000000000100000001010101010111'\n",
        "a=list(iput)\n",
        "n=len(iput)\n",
        "c_start=0\n",
        "c_end=0\n",
        "for i in range(n):\n",
        "  if(a[i]=='1'and c_start<1 ):\n",
        "    print('i',i)\n",
        "    start=i\n",
        "    c_start+=1\n",
        "for j in range(n-1,0,-1):\n",
        "  if(a[j]=='1'and c_end<1):\n",
        "    print('j',j)\n",
        "    end=j+1\n",
        "    c_end+=1\n",
        "print('end',end)\n",
        "print('start',start)\n",
        "length=end-start\n",
        "length"
      ],
      "execution_count": 56,
      "outputs": [
        {
          "output_type": "stream",
          "text": [
            "i 0\n",
            "j 55\n",
            "end 56\n",
            "start 0\n"
          ],
          "name": "stdout"
        },
        {
          "output_type": "execute_result",
          "data": {
            "text/plain": [
              "56"
            ]
          },
          "metadata": {
            "tags": []
          },
          "execution_count": 56
        }
      ]
    },
    {
      "metadata": {
        "id": "pHY58p9-JgLz",
        "colab_type": "code",
        "colab": {}
      },
      "cell_type": "code",
      "source": [
        "a='0010010100'"
      ],
      "execution_count": 0,
      "outputs": []
    },
    {
      "metadata": {
        "id": "xJWTWx15J9W5",
        "colab_type": "code",
        "colab": {}
      },
      "cell_type": "code",
      "source": [
        ""
      ],
      "execution_count": 0,
      "outputs": []
    },
    {
      "metadata": {
        "id": "lFGfD76NKR6t",
        "colab_type": "code",
        "colab": {}
      },
      "cell_type": "code",
      "source": [
        ""
      ],
      "execution_count": 0,
      "outputs": []
    }
  ]
}