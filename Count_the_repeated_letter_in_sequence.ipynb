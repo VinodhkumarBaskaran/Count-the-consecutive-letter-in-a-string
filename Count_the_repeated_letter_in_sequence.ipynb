{
  "nbformat": 4,
  "nbformat_minor": 0,
  "metadata": {
    "colab": {
      "name": "Count the repeated letter in sequence",
      "version": "0.3.2",
      "provenance": [],
      "include_colab_link": true
    }
  },
  "cells": [
    {
      "cell_type": "markdown",
      "metadata": {
        "id": "view-in-github",
        "colab_type": "text"
      },
      "source": [
        "<a href=\"https://colab.research.google.com/github/VinodhkumarBaskaran/Count-the-consecutive-letter-in-a-string/blob/master/Count_the_repeated_letter_in_sequence.ipynb\" target=\"_parent\"><img src=\"https://colab.research.google.com/assets/colab-badge.svg\" alt=\"Open In Colab\"/></a>"
      ]
    },
    {
      "metadata": {
        "id": "cEXa81NAz89-",
        "colab_type": "code",
        "colab": {}
      },
      "cell_type": "code",
      "source": [
        "def letter_conse_count():\n",
        "  string=raw_input(\"Enter string: \")\n",
        "  count=1\n",
        "  output=\"\"\n",
        "  if len(string)>1:\n",
        "      for i in range(1,len(string)):\n",
        "        if string[i-1]==string[i]:\n",
        "            count+=1\n",
        "        else :\n",
        "             output += string[i-1]+str(count)\n",
        "             count=1\n",
        "      output += (string[i]+str(count))\n",
        "      print(output)"
      ],
      "execution_count": 0,
      "outputs": []
    },
    {
      "metadata": {
        "id": "tjHCgmvCBKUI",
        "colab_type": "code",
        "colab": {
          "base_uri": "https://localhost:8080/",
          "height": 52
        },
        "outputId": "417beb5f-2398-4800-c40a-d6c3b3ae83d0"
      },
      "cell_type": "code",
      "source": [
        "letter_conse_count()"
      ],
      "execution_count": 111,
      "outputs": [
        {
          "output_type": "stream",
          "text": [
            "Enter string: yyyyoounnnghyytuio\n",
            "y4o2u1n3g1h1y2t1u1i1o1\n"
          ],
          "name": "stdout"
        }
      ]
    },
    {
      "metadata": {
        "id": "Z0MR8F33GKE9",
        "colab_type": "code",
        "colab": {}
      },
      "cell_type": "code",
      "source": [
        ""
      ],
      "execution_count": 0,
      "outputs": []
    },
    {
      "metadata": {
        "id": "dcyAXGEHCM2E",
        "colab_type": "code",
        "colab": {}
      },
      "cell_type": "code",
      "source": [
        ""
      ],
      "execution_count": 0,
      "outputs": []
    }
  ]
}